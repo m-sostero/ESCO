{
 "cells": [
  {
   "cell_type": "code",
   "execution_count": 1,
   "metadata": {},
   "outputs": [],
   "source": [
    "import pandas as pd\n",
    "import numpy as np\n",
    "from openai.embeddings_utils import get_embedding, cosine_similarity\n"
   ]
  },
  {
   "cell_type": "code",
   "execution_count": null,
   "metadata": {},
   "outputs": [],
   "source": [
    "df = pd.read_csv('~/Repositories/ESCO/Embeddings/embedding_skills.csv', sep='\\t')\n",
    "df[\"embeddings\"] = df.embeddings.apply(eval).apply(np.array)\n",
    "\n",
    "df"
   ]
  },
  {
   "cell_type": "code",
   "execution_count": 9,
   "metadata": {},
   "outputs": [],
   "source": [
    "# reduced dataframe\n",
    "df_reduced=df.head(100)"
   ]
  },
  {
   "cell_type": "code",
   "execution_count": null,
   "metadata": {},
   "outputs": [],
   "source": [
    "# search through a specific prompt\n",
    "def search(df, description, n=1, pprint=True):\n",
    "    description = get_embedding(\n",
    "        description,\n",
    "        engine=\"text-embedding-ada-002\"\n",
    "    )\n",
    "    df[\"similarity\"] = df.embeddings.apply(lambda x: cosine_similarity(x, description))\n",
    "    \n",
    "    results = (\n",
    "         df.sort_values(\"similarity\", ascending=False)\n",
    "        .head(n)\n",
    "        .conceptUri.str.replace(\"\", \"\")\n",
    "        .str.replace(\"Occupational Description\", \":\")\n",
    "        )\n",
    "    if pprint:\n",
    "        for r in results:\n",
    "            print(r[:400])\n",
    "            print()\n",
    "        return str(results)"
   ]
  },
  {
   "cell_type": "code",
   "execution_count": null,
   "metadata": {},
   "outputs": [],
   "source": [
    "results = search(df, \"coordinate duties of musical staff\", n = 1)\n",
    "\n",
    " #some simulation which results simOUT\n",
    "f = open('results.txt','wt')\n",
    "f.write(str(results) + '\\n')\n",
    "f.close()"
   ]
  }
 ],
 "metadata": {
  "kernelspec": {
   "display_name": "Python 3",
   "language": "python",
   "name": "python3"
  },
  "language_info": {
   "codemirror_mode": {
    "name": "ipython",
    "version": 3
   },
   "file_extension": ".py",
   "mimetype": "text/x-python",
   "name": "python",
   "nbconvert_exporter": "python",
   "pygments_lexer": "ipython3",
   "version": "3.11.2"
  },
  "orig_nbformat": 4
 },
 "nbformat": 4,
 "nbformat_minor": 2
}
